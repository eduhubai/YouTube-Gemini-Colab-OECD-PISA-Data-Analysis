{
  "cells": [
    {
      "cell_type": "markdown",
      "metadata": {
        "id": "uDpKlE6Q1LZg"
      },
      "source": [
        "# Data Analysis with AI\n",
        "\n",
        "This notebook will guide you through an exploratory data analysis (EDA) of the OECD PISA dataset and the economic dataset. The focus is on analyzing PISA test results and integrating economic data where relevant to gain deeper insights.\n",
        "\n",
        "\n",
        "### OECD PISA Data\n",
        "\n",
        "The OECD Programme for International Student Assessment (PISA) dataset contains the results of a worldwide study by the Organisation for Economic Co-operation and Development (OECD) that measures 15-year-old school pupils' scholastic performance on mathematics, science, and reading. The dataset includes the following columns:\n",
        "\n",
        "- `index`: Index of the row.\n",
        "- `LOCATION`: Country code.\n",
        "- `SUBJECT`: Subject (e.g., Mathematics, Reading, Science).\n",
        "- `GENDER`: Gender of the students (e.g., BOY, GIRL).\n",
        "- `TIME`: Year of the data.\n",
        "- `Value`: PISA score.\n",
        "\n",
        "### Economic and Education Data\n",
        "\n",
        "The Economic and Education dataset includes various economic indicators related to education, providing insights into the economic context in which the PISA scores were achieved. The dataset includes the following columns:\n",
        "\n",
        "- `index_code`: Index of the row.\n",
        "- `expenditure_on_education_pct_gdp`: Government expenditure on education as a percentage of GDP.\n",
        "- `mortality_rate_infant`: Infant mortality rate.\n",
        "- `gini_index`: A measure of income inequality.\n",
        "- `gdp_per_capita_ppp`: Gross Domestic Product per capita, Purchasing Power Parity.\n",
        "- `inflation_consumer_prices`: Inflation rate based on consumer prices.\n",
        "- `intentional_homicides`: Rate of intentional homicides.\n",
        "- `unemployment`: Unemployment rate.\n",
        "- `gross_fixed_capital_formation`: Gross fixed capital formation as a percentage of GDP.\n",
        "- `population_density`: Population density.\n",
        "- `suicide_mortality_rate`: Suicide mortality rate.\n",
        "- `tax_revenue`: Tax revenue as a percentage of GDP.\n",
        "- `taxes_on_income_profits_capital`: Taxes on income, profits, and capital gains as a percentage of GDP.\n",
        "- `alcohol_consumption_per_capita`: Alcohol consumption per capita.\n",
        "- `government_health_expenditure_pct_gdp`: Government health expenditure as a percentage of GDP.\n",
        "- `urban_population_pct_total`: Urban population as a percentage of total population.\n",
        "- `country`: Name of the country.\n",
        "- `time`: Year of the data.\n",
        "- `sex`: Gender of the population segment (if applicable).\n",
        "- `rating`: Additional rating or score related to the dataset (if applicable).\n",
        "\n",
        "## 1. Purpose and Analysis\n",
        "\n",
        "The purpose of this notebook is to show how to perform comprehensive data analysis using Gemini in Google Colab, without writing a single line of code. Instead, we will be using natural language prompts to guide the analysis.\n",
        "### The types of analysis that will be performed include:"
      ]
    },
    {
      "cell_type": "code",
      "source": [
        "# @title\n",
        "import ipywidgets as widgets\n",
        "from IPython.display import display\n",
        "\n",
        "tasks = [\n",
        "    \"1. Loading and Inspecting the Data\",\n",
        "    \"2. Basic Descriptive Statistics\",\n",
        "    \"3. Handling Missing Values\",\n",
        "    \"4. Correlation Analysis\",\n",
        "    \"5. Trend Analysis\",\n",
        "    \"6. Gender Disparities\",\n",
        "    \"7. Subject Performance\",\n",
        "    \"8. Economic Indicators and Education Performance\",\n",
        "    \"9. Education Expenditure Analysis\",\n",
        "    \"10. Income Inequality and Education\",\n",
        "    \"11. Policy Impact Analysis\",\n",
        "    \"12. Cross-Subject Analysis\",\n",
        "    \"13. Regional Analysis\",\n",
        "    \"14. Visualization of Key Insights\"\n",
        "]\n",
        "\n",
        "# Create a checkbox for each task\n",
        "checkboxes = [widgets.Checkbox(value=False, description=task) for task in tasks]\n",
        "\n",
        "# Function to handle checkbox state change\n",
        "def on_checkbox_change(change):\n",
        "    if change['type'] == 'change' and change['name'] == 'value':\n",
        "        task = change['owner'].description\n",
        "        status = \"completed\" if change['new'] else \"not completed\"\n",
        "        print(f\"Task '{task}' is {status}\")\n",
        "\n",
        "# Link each checkbox to the handler function\n",
        "for checkbox in checkboxes:\n",
        "    checkbox.observe(on_checkbox_change)\n",
        "\n",
        "# Create a VBox to hold the checkboxes\n",
        "checklist = widgets.VBox(checkboxes)\n",
        "\n",
        "# Display the checklist\n",
        "display(checklist)"
      ],
      "metadata": {
        "colab": {
          "base_uri": "https://localhost:8080/",
          "height": 465,
          "referenced_widgets": [
            "9458133f2240415b93379cc2ac51fd22",
            "fcb1b4e8ddf54e49998e5bbb729a2e23",
            "a828f81e5aca45028714347ac98f9a41",
            "1e5560f821e440e68f9d274f83a8f5eb",
            "2a35d5a36e18448185b8784ed6002b5b",
            "cb85bd921e014ae7a03e84168f5ff9cf",
            "3fa85b3825d4476687fc9d3e085d270e",
            "05f90cd3d73b4384b79f071e1f12097d",
            "554218ce851641b2a7d18cf50739f38a",
            "4fca97e73a3f43e6bf6910295083e63f",
            "657c26b28e614d1199c2541a37e8a8fd",
            "b54d17ae3b6d42568fc95bf0f84e82b7",
            "581c2291350a4da58c6ce31016ea65b2",
            "95501352d88244379979dc814067cc1b",
            "a7e3d9f4d0dc4dc2a56c0a5bc73df6f9",
            "91f26b60678a4dab8c7dca13bef193f6",
            "6ca987bad1f94f39a5e9585d44f7851a",
            "18347494350c4dd5bc4591c260d19a43",
            "3e23b1a593d94ac4960f0d298d594a74",
            "d939e512d47a4bfe86e458db0f7a8cca",
            "0b11dd6654fe4ec9a8880039239aaf07",
            "8e1b17198d2845719ee6073151585461",
            "a7f5b29bc3ab4a909b0f90ee3c849a24",
            "080e12517cea437098352e4ca7ca7fca",
            "4d621d267d6941aa89b8636b591c132f",
            "d0d45f853e5e40f6a798c96553ba999a",
            "cae527ebda814cf38846ebd281c58ce9",
            "61e54d58aec345d68cc2163069faff3c",
            "f7a97089f9f64a15be1177cf92ba77df",
            "62c6eaab5c1d40159947a0f2cfaba0e9",
            "89559077da974b15b449822f631ddf57",
            "4c4d781e1f9646f98aa70be255a3f6d8",
            "5096d74463944f96a83ed3832c327118",
            "9743e2119cd3430cbadd7a163b7de1ea",
            "50534cec7bc147b39d29eae97790236d",
            "db06145dd4db4d9d970cf2d2672f9657",
            "2cfcb7f507064a938f606de07f6aec81",
            "76b911ca8cf34680b7e8d1f9ead8bb1d",
            "90601ce39a594a0f88f01d96b4f3dda4",
            "2914e964215f4a7484f8c150407ded54",
            "cda972d243fb4ea582113dc2e557ba21",
            "f52ce9ede8714f898a5cdae8d3bca5f9",
            "7cd2ddd7094748f18c5bf05b4f7b9115",
            "c00d4ddfcb234b9abe4942586db6229b"
          ]
        },
        "id": "c-i7Wv7wOpj6",
        "outputId": "5e6d4a84-2ef4-41cb-f717-f788fff6eb16",
        "cellView": "form"
      },
      "execution_count": 3,
      "outputs": [
        {
          "output_type": "display_data",
          "data": {
            "text/plain": [
              "VBox(children=(Checkbox(value=False, description='1. Loading and Inspecting the Data'), Checkbox(value=False, …"
            ],
            "application/vnd.jupyter.widget-view+json": {
              "version_major": 2,
              "version_minor": 0,
              "model_id": "9458133f2240415b93379cc2ac51fd22"
            }
          },
          "metadata": {}
        }
      ]
    },
    {
      "cell_type": "markdown",
      "metadata": {
        "id": "8DPcOgsb1LZi"
      },
      "source": [
        "## 2. Loading the Data\n",
        "Load the PISA and economic datasets.\n",
        "\n",
        "*   https://raw.githubusercontent.com/eduhubai/YouTube-Gemini-Colab-OECD-PISA-Data-Analysis/main/OECD_PISA_data.csv\n",
        "* https://raw.githubusercontent.com/eduhubai/YouTube-Gemini-Colab-OECD-PISA-Data-Analysis/main/economics_and_education_dataset_CSV.csv\n"
      ]
    },
    {
      "cell_type": "code",
      "execution_count": 3,
      "metadata": {
        "id": "molP7pK31LZi"
      },
      "outputs": [],
      "source": []
    },
    {
      "cell_type": "markdown",
      "metadata": {
        "id": "Kb8FU1rF1LZi"
      },
      "source": [
        "## 3. Basic Information\n",
        "Display basic information about both datasets to understand their structure."
      ]
    },
    {
      "cell_type": "code",
      "source": [],
      "metadata": {
        "id": "-_MIDhFeP6j_"
      },
      "execution_count": 3,
      "outputs": []
    },
    {
      "cell_type": "markdown",
      "metadata": {
        "id": "FUSSUwk81LZi"
      },
      "source": [
        "## 4. Summary Statistics\n",
        "Generate summary statistics for both datasets."
      ]
    },
    {
      "cell_type": "code",
      "execution_count": 3,
      "metadata": {
        "id": "i_mAF0oz1LZi"
      },
      "outputs": [],
      "source": []
    },
    {
      "cell_type": "markdown",
      "metadata": {
        "id": "Uqh2hiuD1LZj"
      },
      "source": [
        "## 5. Missing Values\n",
        "Check for and handle missing values in both datasets."
      ]
    },
    {
      "cell_type": "code",
      "execution_count": 3,
      "metadata": {
        "id": "qDhIDbtm1LZj"
      },
      "outputs": [],
      "source": []
    },
    {
      "cell_type": "markdown",
      "metadata": {
        "id": "j3osYif91LZj"
      },
      "source": [
        "## 6. Correlation Analysis\n",
        "Perform correlation analysis to identify relationships between numerical variables."
      ]
    },
    {
      "cell_type": "code",
      "execution_count": 3,
      "metadata": {
        "id": "7-IJX1Kr1LZj"
      },
      "outputs": [],
      "source": []
    },
    {
      "cell_type": "markdown",
      "source": [
        "## 7. Data Preprocessing / Data Cleaning"
      ],
      "metadata": {
        "id": "L2u9F3Zq4SJ4"
      }
    },
    {
      "cell_type": "markdown",
      "source": [
        "### Deal with Pisa dataset first"
      ],
      "metadata": {
        "id": "8LNInHmV5s0Z"
      }
    },
    {
      "cell_type": "markdown",
      "source": [
        "1. Show the first 5 rows"
      ],
      "metadata": {
        "id": "FGoifxgs51Oa"
      }
    },
    {
      "cell_type": "code",
      "source": [],
      "metadata": {
        "id": "YBFIc6MG54pO"
      },
      "execution_count": 3,
      "outputs": []
    },
    {
      "cell_type": "markdown",
      "source": [
        "\n",
        "2. Convert LOCATION, SUBJECT, GENDER, TIME columns to categorical variables\n",
        "\n"
      ],
      "metadata": {
        "id": "1b-iRRFk4dRs"
      }
    },
    {
      "cell_type": "code",
      "source": [],
      "metadata": {
        "id": "J2jiysbQ5Hyp"
      },
      "execution_count": 3,
      "outputs": []
    },
    {
      "cell_type": "markdown",
      "source": [
        "3. Rename TIME as YEAR, LOCATION AS COUNTRY\n",
        "\n"
      ],
      "metadata": {
        "id": "jhkextA75KDR"
      }
    },
    {
      "cell_type": "code",
      "source": [],
      "metadata": {
        "id": "4tavNUsp5IWD"
      },
      "execution_count": 3,
      "outputs": []
    },
    {
      "cell_type": "markdown",
      "source": [
        "4. Drop Index column"
      ],
      "metadata": {
        "id": "XcWnev885Vuq"
      }
    },
    {
      "cell_type": "code",
      "source": [],
      "metadata": {
        "id": "o8LTbguI5ZEz"
      },
      "execution_count": 3,
      "outputs": []
    },
    {
      "cell_type": "markdown",
      "source": [
        "5. Remove \"PISA\" in the values in the subject column"
      ],
      "metadata": {
        "id": "e0JSJzm76YOj"
      }
    },
    {
      "cell_type": "code",
      "source": [],
      "metadata": {
        "id": "YS-3lYLZ6fP_"
      },
      "execution_count": 3,
      "outputs": []
    },
    {
      "cell_type": "markdown",
      "source": [
        "### Deal with Economic Dataset"
      ],
      "metadata": {
        "id": "HtTuc3MC59-z"
      }
    },
    {
      "cell_type": "markdown",
      "source": [
        "1. show the first 5 rows of ecomocs dataset"
      ],
      "metadata": {
        "id": "dzwggcpp6DuS"
      }
    },
    {
      "cell_type": "code",
      "source": [],
      "metadata": {
        "id": "1G_0kI5Yai26"
      },
      "execution_count": 3,
      "outputs": []
    },
    {
      "cell_type": "code",
      "source": [],
      "metadata": {
        "id": "6Y6FTGsNZOwK"
      },
      "execution_count": 3,
      "outputs": []
    },
    {
      "cell_type": "markdown",
      "source": [
        "2. Rename time as YEAR, country AS COUNTRY, sex as GENDER"
      ],
      "metadata": {
        "id": "-UKD6gUBZP45"
      }
    },
    {
      "cell_type": "code",
      "source": [],
      "metadata": {
        "id": "YjD2sMV3ZWvG"
      },
      "execution_count": 3,
      "outputs": []
    },
    {
      "cell_type": "markdown",
      "metadata": {
        "id": "9B5X0Rw-1LZl"
      },
      "source": [
        "## 8. Regional Analysis\n",
        "Group countries by regions (e.g., Europe, Asia) and analyze regional performance trends."
      ]
    },
    {
      "cell_type": "code",
      "execution_count": 4,
      "metadata": {
        "id": "IOasJyQ_1LZl"
      },
      "outputs": [],
      "source": []
    },
    {
      "cell_type": "markdown",
      "metadata": {
        "id": "Qc-NP5Lg1LZl"
      },
      "source": [
        "## 9. Visualization of Key Insights\n",
        "Create visualizations to illustrate the relationships and trends found in the analysis."
      ]
    },
    {
      "cell_type": "code",
      "execution_count": null,
      "metadata": {
        "id": "5AZydDPQ1LZl"
      },
      "outputs": [],
      "source": []
    }
  ],
  "metadata": {
    "kernelspec": {
      "display_name": "Python 3",
      "language": "python",
      "name": "python3"
    },
    "language_info": {
      "codemirror_mode": {
        "name": "ipython",
        "version": 3
      },
      "file_extension": ".py",
      "mimetype": "text/x-python",
      "name": "python",
      "nbconvert_exporter": "python",
      "pygments_lexer": "ipython3",
      "version": "3.8.5"
    },
    "colab": {
      "provenance": []
    },
    "widgets": {
      "application/vnd.jupyter.widget-state+json": {
        "9458133f2240415b93379cc2ac51fd22": {
          "model_module": "@jupyter-widgets/controls",
          "model_name": "VBoxModel",
          "model_module_version": "1.5.0",
          "state": {
            "_dom_classes": [],
            "_model_module": "@jupyter-widgets/controls",
            "_model_module_version": "1.5.0",
            "_model_name": "VBoxModel",
            "_view_count": null,
            "_view_module": "@jupyter-widgets/controls",
            "_view_module_version": "1.5.0",
            "_view_name": "VBoxView",
            "box_style": "",
            "children": [
              "IPY_MODEL_fcb1b4e8ddf54e49998e5bbb729a2e23",
              "IPY_MODEL_a828f81e5aca45028714347ac98f9a41",
              "IPY_MODEL_1e5560f821e440e68f9d274f83a8f5eb",
              "IPY_MODEL_2a35d5a36e18448185b8784ed6002b5b",
              "IPY_MODEL_cb85bd921e014ae7a03e84168f5ff9cf",
              "IPY_MODEL_3fa85b3825d4476687fc9d3e085d270e",
              "IPY_MODEL_05f90cd3d73b4384b79f071e1f12097d",
              "IPY_MODEL_554218ce851641b2a7d18cf50739f38a",
              "IPY_MODEL_4fca97e73a3f43e6bf6910295083e63f",
              "IPY_MODEL_657c26b28e614d1199c2541a37e8a8fd",
              "IPY_MODEL_b54d17ae3b6d42568fc95bf0f84e82b7",
              "IPY_MODEL_581c2291350a4da58c6ce31016ea65b2",
              "IPY_MODEL_95501352d88244379979dc814067cc1b",
              "IPY_MODEL_a7e3d9f4d0dc4dc2a56c0a5bc73df6f9"
            ],
            "layout": "IPY_MODEL_91f26b60678a4dab8c7dca13bef193f6"
          }
        },
        "fcb1b4e8ddf54e49998e5bbb729a2e23": {
          "model_module": "@jupyter-widgets/controls",
          "model_name": "CheckboxModel",
          "model_module_version": "1.5.0",
          "state": {
            "_dom_classes": [],
            "_model_module": "@jupyter-widgets/controls",
            "_model_module_version": "1.5.0",
            "_model_name": "CheckboxModel",
            "_view_count": null,
            "_view_module": "@jupyter-widgets/controls",
            "_view_module_version": "1.5.0",
            "_view_name": "CheckboxView",
            "description": "1. Loading and Inspecting the Data",
            "description_tooltip": null,
            "disabled": false,
            "indent": true,
            "layout": "IPY_MODEL_6ca987bad1f94f39a5e9585d44f7851a",
            "style": "IPY_MODEL_18347494350c4dd5bc4591c260d19a43",
            "value": false
          }
        },
        "a828f81e5aca45028714347ac98f9a41": {
          "model_module": "@jupyter-widgets/controls",
          "model_name": "CheckboxModel",
          "model_module_version": "1.5.0",
          "state": {
            "_dom_classes": [],
            "_model_module": "@jupyter-widgets/controls",
            "_model_module_version": "1.5.0",
            "_model_name": "CheckboxModel",
            "_view_count": null,
            "_view_module": "@jupyter-widgets/controls",
            "_view_module_version": "1.5.0",
            "_view_name": "CheckboxView",
            "description": "2. Basic Descriptive Statistics",
            "description_tooltip": null,
            "disabled": false,
            "indent": true,
            "layout": "IPY_MODEL_3e23b1a593d94ac4960f0d298d594a74",
            "style": "IPY_MODEL_d939e512d47a4bfe86e458db0f7a8cca",
            "value": false
          }
        },
        "1e5560f821e440e68f9d274f83a8f5eb": {
          "model_module": "@jupyter-widgets/controls",
          "model_name": "CheckboxModel",
          "model_module_version": "1.5.0",
          "state": {
            "_dom_classes": [],
            "_model_module": "@jupyter-widgets/controls",
            "_model_module_version": "1.5.0",
            "_model_name": "CheckboxModel",
            "_view_count": null,
            "_view_module": "@jupyter-widgets/controls",
            "_view_module_version": "1.5.0",
            "_view_name": "CheckboxView",
            "description": "3. Handling Missing Values",
            "description_tooltip": null,
            "disabled": false,
            "indent": true,
            "layout": "IPY_MODEL_0b11dd6654fe4ec9a8880039239aaf07",
            "style": "IPY_MODEL_8e1b17198d2845719ee6073151585461",
            "value": false
          }
        },
        "2a35d5a36e18448185b8784ed6002b5b": {
          "model_module": "@jupyter-widgets/controls",
          "model_name": "CheckboxModel",
          "model_module_version": "1.5.0",
          "state": {
            "_dom_classes": [],
            "_model_module": "@jupyter-widgets/controls",
            "_model_module_version": "1.5.0",
            "_model_name": "CheckboxModel",
            "_view_count": null,
            "_view_module": "@jupyter-widgets/controls",
            "_view_module_version": "1.5.0",
            "_view_name": "CheckboxView",
            "description": "4. Correlation Analysis",
            "description_tooltip": null,
            "disabled": false,
            "indent": true,
            "layout": "IPY_MODEL_a7f5b29bc3ab4a909b0f90ee3c849a24",
            "style": "IPY_MODEL_080e12517cea437098352e4ca7ca7fca",
            "value": false
          }
        },
        "cb85bd921e014ae7a03e84168f5ff9cf": {
          "model_module": "@jupyter-widgets/controls",
          "model_name": "CheckboxModel",
          "model_module_version": "1.5.0",
          "state": {
            "_dom_classes": [],
            "_model_module": "@jupyter-widgets/controls",
            "_model_module_version": "1.5.0",
            "_model_name": "CheckboxModel",
            "_view_count": null,
            "_view_module": "@jupyter-widgets/controls",
            "_view_module_version": "1.5.0",
            "_view_name": "CheckboxView",
            "description": "5. Trend Analysis",
            "description_tooltip": null,
            "disabled": false,
            "indent": true,
            "layout": "IPY_MODEL_4d621d267d6941aa89b8636b591c132f",
            "style": "IPY_MODEL_d0d45f853e5e40f6a798c96553ba999a",
            "value": false
          }
        },
        "3fa85b3825d4476687fc9d3e085d270e": {
          "model_module": "@jupyter-widgets/controls",
          "model_name": "CheckboxModel",
          "model_module_version": "1.5.0",
          "state": {
            "_dom_classes": [],
            "_model_module": "@jupyter-widgets/controls",
            "_model_module_version": "1.5.0",
            "_model_name": "CheckboxModel",
            "_view_count": null,
            "_view_module": "@jupyter-widgets/controls",
            "_view_module_version": "1.5.0",
            "_view_name": "CheckboxView",
            "description": "6. Gender Disparities",
            "description_tooltip": null,
            "disabled": false,
            "indent": true,
            "layout": "IPY_MODEL_cae527ebda814cf38846ebd281c58ce9",
            "style": "IPY_MODEL_61e54d58aec345d68cc2163069faff3c",
            "value": false
          }
        },
        "05f90cd3d73b4384b79f071e1f12097d": {
          "model_module": "@jupyter-widgets/controls",
          "model_name": "CheckboxModel",
          "model_module_version": "1.5.0",
          "state": {
            "_dom_classes": [],
            "_model_module": "@jupyter-widgets/controls",
            "_model_module_version": "1.5.0",
            "_model_name": "CheckboxModel",
            "_view_count": null,
            "_view_module": "@jupyter-widgets/controls",
            "_view_module_version": "1.5.0",
            "_view_name": "CheckboxView",
            "description": "7. Subject Performance",
            "description_tooltip": null,
            "disabled": false,
            "indent": true,
            "layout": "IPY_MODEL_f7a97089f9f64a15be1177cf92ba77df",
            "style": "IPY_MODEL_62c6eaab5c1d40159947a0f2cfaba0e9",
            "value": false
          }
        },
        "554218ce851641b2a7d18cf50739f38a": {
          "model_module": "@jupyter-widgets/controls",
          "model_name": "CheckboxModel",
          "model_module_version": "1.5.0",
          "state": {
            "_dom_classes": [],
            "_model_module": "@jupyter-widgets/controls",
            "_model_module_version": "1.5.0",
            "_model_name": "CheckboxModel",
            "_view_count": null,
            "_view_module": "@jupyter-widgets/controls",
            "_view_module_version": "1.5.0",
            "_view_name": "CheckboxView",
            "description": "8. Economic Indicators and Education Performance",
            "description_tooltip": null,
            "disabled": false,
            "indent": true,
            "layout": "IPY_MODEL_89559077da974b15b449822f631ddf57",
            "style": "IPY_MODEL_4c4d781e1f9646f98aa70be255a3f6d8",
            "value": false
          }
        },
        "4fca97e73a3f43e6bf6910295083e63f": {
          "model_module": "@jupyter-widgets/controls",
          "model_name": "CheckboxModel",
          "model_module_version": "1.5.0",
          "state": {
            "_dom_classes": [],
            "_model_module": "@jupyter-widgets/controls",
            "_model_module_version": "1.5.0",
            "_model_name": "CheckboxModel",
            "_view_count": null,
            "_view_module": "@jupyter-widgets/controls",
            "_view_module_version": "1.5.0",
            "_view_name": "CheckboxView",
            "description": "9. Education Expenditure Analysis",
            "description_tooltip": null,
            "disabled": false,
            "indent": true,
            "layout": "IPY_MODEL_5096d74463944f96a83ed3832c327118",
            "style": "IPY_MODEL_9743e2119cd3430cbadd7a163b7de1ea",
            "value": false
          }
        },
        "657c26b28e614d1199c2541a37e8a8fd": {
          "model_module": "@jupyter-widgets/controls",
          "model_name": "CheckboxModel",
          "model_module_version": "1.5.0",
          "state": {
            "_dom_classes": [],
            "_model_module": "@jupyter-widgets/controls",
            "_model_module_version": "1.5.0",
            "_model_name": "CheckboxModel",
            "_view_count": null,
            "_view_module": "@jupyter-widgets/controls",
            "_view_module_version": "1.5.0",
            "_view_name": "CheckboxView",
            "description": "10. Income Inequality and Education",
            "description_tooltip": null,
            "disabled": false,
            "indent": true,
            "layout": "IPY_MODEL_50534cec7bc147b39d29eae97790236d",
            "style": "IPY_MODEL_db06145dd4db4d9d970cf2d2672f9657",
            "value": false
          }
        },
        "b54d17ae3b6d42568fc95bf0f84e82b7": {
          "model_module": "@jupyter-widgets/controls",
          "model_name": "CheckboxModel",
          "model_module_version": "1.5.0",
          "state": {
            "_dom_classes": [],
            "_model_module": "@jupyter-widgets/controls",
            "_model_module_version": "1.5.0",
            "_model_name": "CheckboxModel",
            "_view_count": null,
            "_view_module": "@jupyter-widgets/controls",
            "_view_module_version": "1.5.0",
            "_view_name": "CheckboxView",
            "description": "11. Policy Impact Analysis",
            "description_tooltip": null,
            "disabled": false,
            "indent": true,
            "layout": "IPY_MODEL_2cfcb7f507064a938f606de07f6aec81",
            "style": "IPY_MODEL_76b911ca8cf34680b7e8d1f9ead8bb1d",
            "value": false
          }
        },
        "581c2291350a4da58c6ce31016ea65b2": {
          "model_module": "@jupyter-widgets/controls",
          "model_name": "CheckboxModel",
          "model_module_version": "1.5.0",
          "state": {
            "_dom_classes": [],
            "_model_module": "@jupyter-widgets/controls",
            "_model_module_version": "1.5.0",
            "_model_name": "CheckboxModel",
            "_view_count": null,
            "_view_module": "@jupyter-widgets/controls",
            "_view_module_version": "1.5.0",
            "_view_name": "CheckboxView",
            "description": "12. Cross-Subject Analysis",
            "description_tooltip": null,
            "disabled": false,
            "indent": true,
            "layout": "IPY_MODEL_90601ce39a594a0f88f01d96b4f3dda4",
            "style": "IPY_MODEL_2914e964215f4a7484f8c150407ded54",
            "value": false
          }
        },
        "95501352d88244379979dc814067cc1b": {
          "model_module": "@jupyter-widgets/controls",
          "model_name": "CheckboxModel",
          "model_module_version": "1.5.0",
          "state": {
            "_dom_classes": [],
            "_model_module": "@jupyter-widgets/controls",
            "_model_module_version": "1.5.0",
            "_model_name": "CheckboxModel",
            "_view_count": null,
            "_view_module": "@jupyter-widgets/controls",
            "_view_module_version": "1.5.0",
            "_view_name": "CheckboxView",
            "description": "13. Regional Analysis",
            "description_tooltip": null,
            "disabled": false,
            "indent": true,
            "layout": "IPY_MODEL_cda972d243fb4ea582113dc2e557ba21",
            "style": "IPY_MODEL_f52ce9ede8714f898a5cdae8d3bca5f9",
            "value": false
          }
        },
        "a7e3d9f4d0dc4dc2a56c0a5bc73df6f9": {
          "model_module": "@jupyter-widgets/controls",
          "model_name": "CheckboxModel",
          "model_module_version": "1.5.0",
          "state": {
            "_dom_classes": [],
            "_model_module": "@jupyter-widgets/controls",
            "_model_module_version": "1.5.0",
            "_model_name": "CheckboxModel",
            "_view_count": null,
            "_view_module": "@jupyter-widgets/controls",
            "_view_module_version": "1.5.0",
            "_view_name": "CheckboxView",
            "description": "14. Visualization of Key Insights",
            "description_tooltip": null,
            "disabled": false,
            "indent": true,
            "layout": "IPY_MODEL_7cd2ddd7094748f18c5bf05b4f7b9115",
            "style": "IPY_MODEL_c00d4ddfcb234b9abe4942586db6229b",
            "value": false
          }
        },
        "91f26b60678a4dab8c7dca13bef193f6": {
          "model_module": "@jupyter-widgets/base",
          "model_name": "LayoutModel",
          "model_module_version": "1.2.0",
          "state": {
            "_model_module": "@jupyter-widgets/base",
            "_model_module_version": "1.2.0",
            "_model_name": "LayoutModel",
            "_view_count": null,
            "_view_module": "@jupyter-widgets/base",
            "_view_module_version": "1.2.0",
            "_view_name": "LayoutView",
            "align_content": null,
            "align_items": null,
            "align_self": null,
            "border": null,
            "bottom": null,
            "display": null,
            "flex": null,
            "flex_flow": null,
            "grid_area": null,
            "grid_auto_columns": null,
            "grid_auto_flow": null,
            "grid_auto_rows": null,
            "grid_column": null,
            "grid_gap": null,
            "grid_row": null,
            "grid_template_areas": null,
            "grid_template_columns": null,
            "grid_template_rows": null,
            "height": null,
            "justify_content": null,
            "justify_items": null,
            "left": null,
            "margin": null,
            "max_height": null,
            "max_width": null,
            "min_height": null,
            "min_width": null,
            "object_fit": null,
            "object_position": null,
            "order": null,
            "overflow": null,
            "overflow_x": null,
            "overflow_y": null,
            "padding": null,
            "right": null,
            "top": null,
            "visibility": null,
            "width": null
          }
        },
        "6ca987bad1f94f39a5e9585d44f7851a": {
          "model_module": "@jupyter-widgets/base",
          "model_name": "LayoutModel",
          "model_module_version": "1.2.0",
          "state": {
            "_model_module": "@jupyter-widgets/base",
            "_model_module_version": "1.2.0",
            "_model_name": "LayoutModel",
            "_view_count": null,
            "_view_module": "@jupyter-widgets/base",
            "_view_module_version": "1.2.0",
            "_view_name": "LayoutView",
            "align_content": null,
            "align_items": null,
            "align_self": null,
            "border": null,
            "bottom": null,
            "display": null,
            "flex": null,
            "flex_flow": null,
            "grid_area": null,
            "grid_auto_columns": null,
            "grid_auto_flow": null,
            "grid_auto_rows": null,
            "grid_column": null,
            "grid_gap": null,
            "grid_row": null,
            "grid_template_areas": null,
            "grid_template_columns": null,
            "grid_template_rows": null,
            "height": null,
            "justify_content": null,
            "justify_items": null,
            "left": null,
            "margin": null,
            "max_height": null,
            "max_width": null,
            "min_height": null,
            "min_width": null,
            "object_fit": null,
            "object_position": null,
            "order": null,
            "overflow": null,
            "overflow_x": null,
            "overflow_y": null,
            "padding": null,
            "right": null,
            "top": null,
            "visibility": null,
            "width": null
          }
        },
        "18347494350c4dd5bc4591c260d19a43": {
          "model_module": "@jupyter-widgets/controls",
          "model_name": "DescriptionStyleModel",
          "model_module_version": "1.5.0",
          "state": {
            "_model_module": "@jupyter-widgets/controls",
            "_model_module_version": "1.5.0",
            "_model_name": "DescriptionStyleModel",
            "_view_count": null,
            "_view_module": "@jupyter-widgets/base",
            "_view_module_version": "1.2.0",
            "_view_name": "StyleView",
            "description_width": ""
          }
        },
        "3e23b1a593d94ac4960f0d298d594a74": {
          "model_module": "@jupyter-widgets/base",
          "model_name": "LayoutModel",
          "model_module_version": "1.2.0",
          "state": {
            "_model_module": "@jupyter-widgets/base",
            "_model_module_version": "1.2.0",
            "_model_name": "LayoutModel",
            "_view_count": null,
            "_view_module": "@jupyter-widgets/base",
            "_view_module_version": "1.2.0",
            "_view_name": "LayoutView",
            "align_content": null,
            "align_items": null,
            "align_self": null,
            "border": null,
            "bottom": null,
            "display": null,
            "flex": null,
            "flex_flow": null,
            "grid_area": null,
            "grid_auto_columns": null,
            "grid_auto_flow": null,
            "grid_auto_rows": null,
            "grid_column": null,
            "grid_gap": null,
            "grid_row": null,
            "grid_template_areas": null,
            "grid_template_columns": null,
            "grid_template_rows": null,
            "height": null,
            "justify_content": null,
            "justify_items": null,
            "left": null,
            "margin": null,
            "max_height": null,
            "max_width": null,
            "min_height": null,
            "min_width": null,
            "object_fit": null,
            "object_position": null,
            "order": null,
            "overflow": null,
            "overflow_x": null,
            "overflow_y": null,
            "padding": null,
            "right": null,
            "top": null,
            "visibility": null,
            "width": null
          }
        },
        "d939e512d47a4bfe86e458db0f7a8cca": {
          "model_module": "@jupyter-widgets/controls",
          "model_name": "DescriptionStyleModel",
          "model_module_version": "1.5.0",
          "state": {
            "_model_module": "@jupyter-widgets/controls",
            "_model_module_version": "1.5.0",
            "_model_name": "DescriptionStyleModel",
            "_view_count": null,
            "_view_module": "@jupyter-widgets/base",
            "_view_module_version": "1.2.0",
            "_view_name": "StyleView",
            "description_width": ""
          }
        },
        "0b11dd6654fe4ec9a8880039239aaf07": {
          "model_module": "@jupyter-widgets/base",
          "model_name": "LayoutModel",
          "model_module_version": "1.2.0",
          "state": {
            "_model_module": "@jupyter-widgets/base",
            "_model_module_version": "1.2.0",
            "_model_name": "LayoutModel",
            "_view_count": null,
            "_view_module": "@jupyter-widgets/base",
            "_view_module_version": "1.2.0",
            "_view_name": "LayoutView",
            "align_content": null,
            "align_items": null,
            "align_self": null,
            "border": null,
            "bottom": null,
            "display": null,
            "flex": null,
            "flex_flow": null,
            "grid_area": null,
            "grid_auto_columns": null,
            "grid_auto_flow": null,
            "grid_auto_rows": null,
            "grid_column": null,
            "grid_gap": null,
            "grid_row": null,
            "grid_template_areas": null,
            "grid_template_columns": null,
            "grid_template_rows": null,
            "height": null,
            "justify_content": null,
            "justify_items": null,
            "left": null,
            "margin": null,
            "max_height": null,
            "max_width": null,
            "min_height": null,
            "min_width": null,
            "object_fit": null,
            "object_position": null,
            "order": null,
            "overflow": null,
            "overflow_x": null,
            "overflow_y": null,
            "padding": null,
            "right": null,
            "top": null,
            "visibility": null,
            "width": null
          }
        },
        "8e1b17198d2845719ee6073151585461": {
          "model_module": "@jupyter-widgets/controls",
          "model_name": "DescriptionStyleModel",
          "model_module_version": "1.5.0",
          "state": {
            "_model_module": "@jupyter-widgets/controls",
            "_model_module_version": "1.5.0",
            "_model_name": "DescriptionStyleModel",
            "_view_count": null,
            "_view_module": "@jupyter-widgets/base",
            "_view_module_version": "1.2.0",
            "_view_name": "StyleView",
            "description_width": ""
          }
        },
        "a7f5b29bc3ab4a909b0f90ee3c849a24": {
          "model_module": "@jupyter-widgets/base",
          "model_name": "LayoutModel",
          "model_module_version": "1.2.0",
          "state": {
            "_model_module": "@jupyter-widgets/base",
            "_model_module_version": "1.2.0",
            "_model_name": "LayoutModel",
            "_view_count": null,
            "_view_module": "@jupyter-widgets/base",
            "_view_module_version": "1.2.0",
            "_view_name": "LayoutView",
            "align_content": null,
            "align_items": null,
            "align_self": null,
            "border": null,
            "bottom": null,
            "display": null,
            "flex": null,
            "flex_flow": null,
            "grid_area": null,
            "grid_auto_columns": null,
            "grid_auto_flow": null,
            "grid_auto_rows": null,
            "grid_column": null,
            "grid_gap": null,
            "grid_row": null,
            "grid_template_areas": null,
            "grid_template_columns": null,
            "grid_template_rows": null,
            "height": null,
            "justify_content": null,
            "justify_items": null,
            "left": null,
            "margin": null,
            "max_height": null,
            "max_width": null,
            "min_height": null,
            "min_width": null,
            "object_fit": null,
            "object_position": null,
            "order": null,
            "overflow": null,
            "overflow_x": null,
            "overflow_y": null,
            "padding": null,
            "right": null,
            "top": null,
            "visibility": null,
            "width": null
          }
        },
        "080e12517cea437098352e4ca7ca7fca": {
          "model_module": "@jupyter-widgets/controls",
          "model_name": "DescriptionStyleModel",
          "model_module_version": "1.5.0",
          "state": {
            "_model_module": "@jupyter-widgets/controls",
            "_model_module_version": "1.5.0",
            "_model_name": "DescriptionStyleModel",
            "_view_count": null,
            "_view_module": "@jupyter-widgets/base",
            "_view_module_version": "1.2.0",
            "_view_name": "StyleView",
            "description_width": ""
          }
        },
        "4d621d267d6941aa89b8636b591c132f": {
          "model_module": "@jupyter-widgets/base",
          "model_name": "LayoutModel",
          "model_module_version": "1.2.0",
          "state": {
            "_model_module": "@jupyter-widgets/base",
            "_model_module_version": "1.2.0",
            "_model_name": "LayoutModel",
            "_view_count": null,
            "_view_module": "@jupyter-widgets/base",
            "_view_module_version": "1.2.0",
            "_view_name": "LayoutView",
            "align_content": null,
            "align_items": null,
            "align_self": null,
            "border": null,
            "bottom": null,
            "display": null,
            "flex": null,
            "flex_flow": null,
            "grid_area": null,
            "grid_auto_columns": null,
            "grid_auto_flow": null,
            "grid_auto_rows": null,
            "grid_column": null,
            "grid_gap": null,
            "grid_row": null,
            "grid_template_areas": null,
            "grid_template_columns": null,
            "grid_template_rows": null,
            "height": null,
            "justify_content": null,
            "justify_items": null,
            "left": null,
            "margin": null,
            "max_height": null,
            "max_width": null,
            "min_height": null,
            "min_width": null,
            "object_fit": null,
            "object_position": null,
            "order": null,
            "overflow": null,
            "overflow_x": null,
            "overflow_y": null,
            "padding": null,
            "right": null,
            "top": null,
            "visibility": null,
            "width": null
          }
        },
        "d0d45f853e5e40f6a798c96553ba999a": {
          "model_module": "@jupyter-widgets/controls",
          "model_name": "DescriptionStyleModel",
          "model_module_version": "1.5.0",
          "state": {
            "_model_module": "@jupyter-widgets/controls",
            "_model_module_version": "1.5.0",
            "_model_name": "DescriptionStyleModel",
            "_view_count": null,
            "_view_module": "@jupyter-widgets/base",
            "_view_module_version": "1.2.0",
            "_view_name": "StyleView",
            "description_width": ""
          }
        },
        "cae527ebda814cf38846ebd281c58ce9": {
          "model_module": "@jupyter-widgets/base",
          "model_name": "LayoutModel",
          "model_module_version": "1.2.0",
          "state": {
            "_model_module": "@jupyter-widgets/base",
            "_model_module_version": "1.2.0",
            "_model_name": "LayoutModel",
            "_view_count": null,
            "_view_module": "@jupyter-widgets/base",
            "_view_module_version": "1.2.0",
            "_view_name": "LayoutView",
            "align_content": null,
            "align_items": null,
            "align_self": null,
            "border": null,
            "bottom": null,
            "display": null,
            "flex": null,
            "flex_flow": null,
            "grid_area": null,
            "grid_auto_columns": null,
            "grid_auto_flow": null,
            "grid_auto_rows": null,
            "grid_column": null,
            "grid_gap": null,
            "grid_row": null,
            "grid_template_areas": null,
            "grid_template_columns": null,
            "grid_template_rows": null,
            "height": null,
            "justify_content": null,
            "justify_items": null,
            "left": null,
            "margin": null,
            "max_height": null,
            "max_width": null,
            "min_height": null,
            "min_width": null,
            "object_fit": null,
            "object_position": null,
            "order": null,
            "overflow": null,
            "overflow_x": null,
            "overflow_y": null,
            "padding": null,
            "right": null,
            "top": null,
            "visibility": null,
            "width": null
          }
        },
        "61e54d58aec345d68cc2163069faff3c": {
          "model_module": "@jupyter-widgets/controls",
          "model_name": "DescriptionStyleModel",
          "model_module_version": "1.5.0",
          "state": {
            "_model_module": "@jupyter-widgets/controls",
            "_model_module_version": "1.5.0",
            "_model_name": "DescriptionStyleModel",
            "_view_count": null,
            "_view_module": "@jupyter-widgets/base",
            "_view_module_version": "1.2.0",
            "_view_name": "StyleView",
            "description_width": ""
          }
        },
        "f7a97089f9f64a15be1177cf92ba77df": {
          "model_module": "@jupyter-widgets/base",
          "model_name": "LayoutModel",
          "model_module_version": "1.2.0",
          "state": {
            "_model_module": "@jupyter-widgets/base",
            "_model_module_version": "1.2.0",
            "_model_name": "LayoutModel",
            "_view_count": null,
            "_view_module": "@jupyter-widgets/base",
            "_view_module_version": "1.2.0",
            "_view_name": "LayoutView",
            "align_content": null,
            "align_items": null,
            "align_self": null,
            "border": null,
            "bottom": null,
            "display": null,
            "flex": null,
            "flex_flow": null,
            "grid_area": null,
            "grid_auto_columns": null,
            "grid_auto_flow": null,
            "grid_auto_rows": null,
            "grid_column": null,
            "grid_gap": null,
            "grid_row": null,
            "grid_template_areas": null,
            "grid_template_columns": null,
            "grid_template_rows": null,
            "height": null,
            "justify_content": null,
            "justify_items": null,
            "left": null,
            "margin": null,
            "max_height": null,
            "max_width": null,
            "min_height": null,
            "min_width": null,
            "object_fit": null,
            "object_position": null,
            "order": null,
            "overflow": null,
            "overflow_x": null,
            "overflow_y": null,
            "padding": null,
            "right": null,
            "top": null,
            "visibility": null,
            "width": null
          }
        },
        "62c6eaab5c1d40159947a0f2cfaba0e9": {
          "model_module": "@jupyter-widgets/controls",
          "model_name": "DescriptionStyleModel",
          "model_module_version": "1.5.0",
          "state": {
            "_model_module": "@jupyter-widgets/controls",
            "_model_module_version": "1.5.0",
            "_model_name": "DescriptionStyleModel",
            "_view_count": null,
            "_view_module": "@jupyter-widgets/base",
            "_view_module_version": "1.2.0",
            "_view_name": "StyleView",
            "description_width": ""
          }
        },
        "89559077da974b15b449822f631ddf57": {
          "model_module": "@jupyter-widgets/base",
          "model_name": "LayoutModel",
          "model_module_version": "1.2.0",
          "state": {
            "_model_module": "@jupyter-widgets/base",
            "_model_module_version": "1.2.0",
            "_model_name": "LayoutModel",
            "_view_count": null,
            "_view_module": "@jupyter-widgets/base",
            "_view_module_version": "1.2.0",
            "_view_name": "LayoutView",
            "align_content": null,
            "align_items": null,
            "align_self": null,
            "border": null,
            "bottom": null,
            "display": null,
            "flex": null,
            "flex_flow": null,
            "grid_area": null,
            "grid_auto_columns": null,
            "grid_auto_flow": null,
            "grid_auto_rows": null,
            "grid_column": null,
            "grid_gap": null,
            "grid_row": null,
            "grid_template_areas": null,
            "grid_template_columns": null,
            "grid_template_rows": null,
            "height": null,
            "justify_content": null,
            "justify_items": null,
            "left": null,
            "margin": null,
            "max_height": null,
            "max_width": null,
            "min_height": null,
            "min_width": null,
            "object_fit": null,
            "object_position": null,
            "order": null,
            "overflow": null,
            "overflow_x": null,
            "overflow_y": null,
            "padding": null,
            "right": null,
            "top": null,
            "visibility": null,
            "width": null
          }
        },
        "4c4d781e1f9646f98aa70be255a3f6d8": {
          "model_module": "@jupyter-widgets/controls",
          "model_name": "DescriptionStyleModel",
          "model_module_version": "1.5.0",
          "state": {
            "_model_module": "@jupyter-widgets/controls",
            "_model_module_version": "1.5.0",
            "_model_name": "DescriptionStyleModel",
            "_view_count": null,
            "_view_module": "@jupyter-widgets/base",
            "_view_module_version": "1.2.0",
            "_view_name": "StyleView",
            "description_width": ""
          }
        },
        "5096d74463944f96a83ed3832c327118": {
          "model_module": "@jupyter-widgets/base",
          "model_name": "LayoutModel",
          "model_module_version": "1.2.0",
          "state": {
            "_model_module": "@jupyter-widgets/base",
            "_model_module_version": "1.2.0",
            "_model_name": "LayoutModel",
            "_view_count": null,
            "_view_module": "@jupyter-widgets/base",
            "_view_module_version": "1.2.0",
            "_view_name": "LayoutView",
            "align_content": null,
            "align_items": null,
            "align_self": null,
            "border": null,
            "bottom": null,
            "display": null,
            "flex": null,
            "flex_flow": null,
            "grid_area": null,
            "grid_auto_columns": null,
            "grid_auto_flow": null,
            "grid_auto_rows": null,
            "grid_column": null,
            "grid_gap": null,
            "grid_row": null,
            "grid_template_areas": null,
            "grid_template_columns": null,
            "grid_template_rows": null,
            "height": null,
            "justify_content": null,
            "justify_items": null,
            "left": null,
            "margin": null,
            "max_height": null,
            "max_width": null,
            "min_height": null,
            "min_width": null,
            "object_fit": null,
            "object_position": null,
            "order": null,
            "overflow": null,
            "overflow_x": null,
            "overflow_y": null,
            "padding": null,
            "right": null,
            "top": null,
            "visibility": null,
            "width": null
          }
        },
        "9743e2119cd3430cbadd7a163b7de1ea": {
          "model_module": "@jupyter-widgets/controls",
          "model_name": "DescriptionStyleModel",
          "model_module_version": "1.5.0",
          "state": {
            "_model_module": "@jupyter-widgets/controls",
            "_model_module_version": "1.5.0",
            "_model_name": "DescriptionStyleModel",
            "_view_count": null,
            "_view_module": "@jupyter-widgets/base",
            "_view_module_version": "1.2.0",
            "_view_name": "StyleView",
            "description_width": ""
          }
        },
        "50534cec7bc147b39d29eae97790236d": {
          "model_module": "@jupyter-widgets/base",
          "model_name": "LayoutModel",
          "model_module_version": "1.2.0",
          "state": {
            "_model_module": "@jupyter-widgets/base",
            "_model_module_version": "1.2.0",
            "_model_name": "LayoutModel",
            "_view_count": null,
            "_view_module": "@jupyter-widgets/base",
            "_view_module_version": "1.2.0",
            "_view_name": "LayoutView",
            "align_content": null,
            "align_items": null,
            "align_self": null,
            "border": null,
            "bottom": null,
            "display": null,
            "flex": null,
            "flex_flow": null,
            "grid_area": null,
            "grid_auto_columns": null,
            "grid_auto_flow": null,
            "grid_auto_rows": null,
            "grid_column": null,
            "grid_gap": null,
            "grid_row": null,
            "grid_template_areas": null,
            "grid_template_columns": null,
            "grid_template_rows": null,
            "height": null,
            "justify_content": null,
            "justify_items": null,
            "left": null,
            "margin": null,
            "max_height": null,
            "max_width": null,
            "min_height": null,
            "min_width": null,
            "object_fit": null,
            "object_position": null,
            "order": null,
            "overflow": null,
            "overflow_x": null,
            "overflow_y": null,
            "padding": null,
            "right": null,
            "top": null,
            "visibility": null,
            "width": null
          }
        },
        "db06145dd4db4d9d970cf2d2672f9657": {
          "model_module": "@jupyter-widgets/controls",
          "model_name": "DescriptionStyleModel",
          "model_module_version": "1.5.0",
          "state": {
            "_model_module": "@jupyter-widgets/controls",
            "_model_module_version": "1.5.0",
            "_model_name": "DescriptionStyleModel",
            "_view_count": null,
            "_view_module": "@jupyter-widgets/base",
            "_view_module_version": "1.2.0",
            "_view_name": "StyleView",
            "description_width": ""
          }
        },
        "2cfcb7f507064a938f606de07f6aec81": {
          "model_module": "@jupyter-widgets/base",
          "model_name": "LayoutModel",
          "model_module_version": "1.2.0",
          "state": {
            "_model_module": "@jupyter-widgets/base",
            "_model_module_version": "1.2.0",
            "_model_name": "LayoutModel",
            "_view_count": null,
            "_view_module": "@jupyter-widgets/base",
            "_view_module_version": "1.2.0",
            "_view_name": "LayoutView",
            "align_content": null,
            "align_items": null,
            "align_self": null,
            "border": null,
            "bottom": null,
            "display": null,
            "flex": null,
            "flex_flow": null,
            "grid_area": null,
            "grid_auto_columns": null,
            "grid_auto_flow": null,
            "grid_auto_rows": null,
            "grid_column": null,
            "grid_gap": null,
            "grid_row": null,
            "grid_template_areas": null,
            "grid_template_columns": null,
            "grid_template_rows": null,
            "height": null,
            "justify_content": null,
            "justify_items": null,
            "left": null,
            "margin": null,
            "max_height": null,
            "max_width": null,
            "min_height": null,
            "min_width": null,
            "object_fit": null,
            "object_position": null,
            "order": null,
            "overflow": null,
            "overflow_x": null,
            "overflow_y": null,
            "padding": null,
            "right": null,
            "top": null,
            "visibility": null,
            "width": null
          }
        },
        "76b911ca8cf34680b7e8d1f9ead8bb1d": {
          "model_module": "@jupyter-widgets/controls",
          "model_name": "DescriptionStyleModel",
          "model_module_version": "1.5.0",
          "state": {
            "_model_module": "@jupyter-widgets/controls",
            "_model_module_version": "1.5.0",
            "_model_name": "DescriptionStyleModel",
            "_view_count": null,
            "_view_module": "@jupyter-widgets/base",
            "_view_module_version": "1.2.0",
            "_view_name": "StyleView",
            "description_width": ""
          }
        },
        "90601ce39a594a0f88f01d96b4f3dda4": {
          "model_module": "@jupyter-widgets/base",
          "model_name": "LayoutModel",
          "model_module_version": "1.2.0",
          "state": {
            "_model_module": "@jupyter-widgets/base",
            "_model_module_version": "1.2.0",
            "_model_name": "LayoutModel",
            "_view_count": null,
            "_view_module": "@jupyter-widgets/base",
            "_view_module_version": "1.2.0",
            "_view_name": "LayoutView",
            "align_content": null,
            "align_items": null,
            "align_self": null,
            "border": null,
            "bottom": null,
            "display": null,
            "flex": null,
            "flex_flow": null,
            "grid_area": null,
            "grid_auto_columns": null,
            "grid_auto_flow": null,
            "grid_auto_rows": null,
            "grid_column": null,
            "grid_gap": null,
            "grid_row": null,
            "grid_template_areas": null,
            "grid_template_columns": null,
            "grid_template_rows": null,
            "height": null,
            "justify_content": null,
            "justify_items": null,
            "left": null,
            "margin": null,
            "max_height": null,
            "max_width": null,
            "min_height": null,
            "min_width": null,
            "object_fit": null,
            "object_position": null,
            "order": null,
            "overflow": null,
            "overflow_x": null,
            "overflow_y": null,
            "padding": null,
            "right": null,
            "top": null,
            "visibility": null,
            "width": null
          }
        },
        "2914e964215f4a7484f8c150407ded54": {
          "model_module": "@jupyter-widgets/controls",
          "model_name": "DescriptionStyleModel",
          "model_module_version": "1.5.0",
          "state": {
            "_model_module": "@jupyter-widgets/controls",
            "_model_module_version": "1.5.0",
            "_model_name": "DescriptionStyleModel",
            "_view_count": null,
            "_view_module": "@jupyter-widgets/base",
            "_view_module_version": "1.2.0",
            "_view_name": "StyleView",
            "description_width": ""
          }
        },
        "cda972d243fb4ea582113dc2e557ba21": {
          "model_module": "@jupyter-widgets/base",
          "model_name": "LayoutModel",
          "model_module_version": "1.2.0",
          "state": {
            "_model_module": "@jupyter-widgets/base",
            "_model_module_version": "1.2.0",
            "_model_name": "LayoutModel",
            "_view_count": null,
            "_view_module": "@jupyter-widgets/base",
            "_view_module_version": "1.2.0",
            "_view_name": "LayoutView",
            "align_content": null,
            "align_items": null,
            "align_self": null,
            "border": null,
            "bottom": null,
            "display": null,
            "flex": null,
            "flex_flow": null,
            "grid_area": null,
            "grid_auto_columns": null,
            "grid_auto_flow": null,
            "grid_auto_rows": null,
            "grid_column": null,
            "grid_gap": null,
            "grid_row": null,
            "grid_template_areas": null,
            "grid_template_columns": null,
            "grid_template_rows": null,
            "height": null,
            "justify_content": null,
            "justify_items": null,
            "left": null,
            "margin": null,
            "max_height": null,
            "max_width": null,
            "min_height": null,
            "min_width": null,
            "object_fit": null,
            "object_position": null,
            "order": null,
            "overflow": null,
            "overflow_x": null,
            "overflow_y": null,
            "padding": null,
            "right": null,
            "top": null,
            "visibility": null,
            "width": null
          }
        },
        "f52ce9ede8714f898a5cdae8d3bca5f9": {
          "model_module": "@jupyter-widgets/controls",
          "model_name": "DescriptionStyleModel",
          "model_module_version": "1.5.0",
          "state": {
            "_model_module": "@jupyter-widgets/controls",
            "_model_module_version": "1.5.0",
            "_model_name": "DescriptionStyleModel",
            "_view_count": null,
            "_view_module": "@jupyter-widgets/base",
            "_view_module_version": "1.2.0",
            "_view_name": "StyleView",
            "description_width": ""
          }
        },
        "7cd2ddd7094748f18c5bf05b4f7b9115": {
          "model_module": "@jupyter-widgets/base",
          "model_name": "LayoutModel",
          "model_module_version": "1.2.0",
          "state": {
            "_model_module": "@jupyter-widgets/base",
            "_model_module_version": "1.2.0",
            "_model_name": "LayoutModel",
            "_view_count": null,
            "_view_module": "@jupyter-widgets/base",
            "_view_module_version": "1.2.0",
            "_view_name": "LayoutView",
            "align_content": null,
            "align_items": null,
            "align_self": null,
            "border": null,
            "bottom": null,
            "display": null,
            "flex": null,
            "flex_flow": null,
            "grid_area": null,
            "grid_auto_columns": null,
            "grid_auto_flow": null,
            "grid_auto_rows": null,
            "grid_column": null,
            "grid_gap": null,
            "grid_row": null,
            "grid_template_areas": null,
            "grid_template_columns": null,
            "grid_template_rows": null,
            "height": null,
            "justify_content": null,
            "justify_items": null,
            "left": null,
            "margin": null,
            "max_height": null,
            "max_width": null,
            "min_height": null,
            "min_width": null,
            "object_fit": null,
            "object_position": null,
            "order": null,
            "overflow": null,
            "overflow_x": null,
            "overflow_y": null,
            "padding": null,
            "right": null,
            "top": null,
            "visibility": null,
            "width": null
          }
        },
        "c00d4ddfcb234b9abe4942586db6229b": {
          "model_module": "@jupyter-widgets/controls",
          "model_name": "DescriptionStyleModel",
          "model_module_version": "1.5.0",
          "state": {
            "_model_module": "@jupyter-widgets/controls",
            "_model_module_version": "1.5.0",
            "_model_name": "DescriptionStyleModel",
            "_view_count": null,
            "_view_module": "@jupyter-widgets/base",
            "_view_module_version": "1.2.0",
            "_view_name": "StyleView",
            "description_width": ""
          }
        }
      }
    }
  },
  "nbformat": 4,
  "nbformat_minor": 0
}
