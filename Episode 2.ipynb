{
  "cells": [
    {
      "cell_type": "markdown",
      "source": [
        "# **Using AI with Gemini in Colab: Visualising Student Performance and Economic Indicators (OECD PISA Scores)**"
      ],
      "metadata": {
        "id": "j-1hAT9CuXPf"
      },
      "id": "j-1hAT9CuXPf"
    },
    {
      "cell_type": "markdown",
      "source": [
        "This notebook analyzes the relationship between student performance (measured by PISA test scores) and various economic indicators using AI visualizations with Gemini in Colab."
      ],
      "metadata": {
        "id": "9-DW-AHOuujn"
      },
      "id": "9-DW-AHOuujn"
    },
    {
      "cell_type": "markdown",
      "source": [
        "## Datasets\n",
        "1. **PISA Dataset**: Contains information on PISA test scores across various countries, years, and subjects.\n",
        "*   Columns: **LOCATION, TIME, SUBJECT, GENDER, Value**\n",
        "\n",
        "2. **Economics Dataset**: Includes various economic indicators for the same countries and years.\n",
        "- Columns: **country, time, sex, expenditure_on _education_pct_gdp, mortality_rate_infant, gini_index, gdp_per_capita_ppp, inflation_consumer_prices, intentional_homicides, unemployment, gross_fixed_capital_formation, population_density, suicide_mortality_rate, tax_revenue, taxes_on_income_profits_capital, alcohol_consumption_per_capita, government_health_expenditure_pct_gdp, urban_population_pct_total, rating**"
      ],
      "metadata": {
        "id": "Wi5kcCjktsIu"
      },
      "id": "Wi5kcCjktsIu"
    },
    {
      "cell_type": "markdown",
      "metadata": {
        "id": "jSVAHhEesrkr"
      },
      "source": [
        "### Reading the Datasets\n",
        "Prompt: \"Read the PISA and Economics datasets from the provided URLs.\""
      ],
      "id": "jSVAHhEesrkr"
    },
    {
      "cell_type": "code",
      "metadata": {
        "id": "jhx3PuVDsrks"
      },
      "source": [
        "import pandas as pd\n",
        "\n",
        "# Read the datasets from the provided URLs\n",
        "pisa_url = 'https://raw.githubusercontent.com/eduhubai/YouTube-Gemini-Colab-OECD-PISA-Data-Analysis/main/OECD_PISA_data.csv'\n",
        "economics_url = 'https://raw.githubusercontent.com/eduhubai/YouTube-Gemini-Colab-OECD-PISA-Data-Analysis/main/economics_and_education_dataset_CSV.csv'\n",
        "\n",
        "pisa = pd.read_csv(pisa_url)\n",
        "economics = pd.read_csv(economics_url)\n",
        "\n",
        "# Display the first few rows of pisa dataset\n",
        "pisa.head()"
      ],
      "id": "jhx3PuVDsrks",
      "execution_count": 3,
      "outputs": []
    },
    {
      "cell_type": "code",
      "source": [
        "# Display the first few rows of pisa dataset\n",
        "pisa.head()"
      ],
      "metadata": {
        "id": "UG0VM4kVtHbq"
      },
      "id": "UG0VM4kVtHbq",
      "execution_count": 3,
      "outputs": []
    },
    {
      "cell_type": "markdown",
      "metadata": {
        "id": "ptyiW27Psrks"
      },
      "source": [
        "### Renaming Columns to Avoid Conflicts\n",
        "Prompt: \"Next, we will rename columns in the PISA dataset: 'LOCATION' to 'COUNTRY', 'TIME' to 'YEAR', and 'Value' to 'Test_Score'. In the Economics dataset: 'country' to 'COUNTRY', 'time' to 'YEAR', 'sex' to 'GENDER', and 'Value' to 'Economics_Value'.\""
      ],
      "id": "ptyiW27Psrks"
    },
    {
      "cell_type": "code",
      "metadata": {
        "id": "fyoWPeGvsrkt"
      },
      "source": [],
      "id": "fyoWPeGvsrkt",
      "execution_count": null,
      "outputs": []
    },
    {
      "cell_type": "markdown",
      "metadata": {
        "id": "HW-Nyh4Lsrkt"
      },
      "source": [
        "### Merging the Datasets\n",
        "Prompt: \"Now, we'll merge the two datasets on the common columns: 'COUNTRY', 'YEAR', and 'GENDER'. This will combine the test scores with the economic indicators for the same country, year, and gender.\""
      ],
      "id": "HW-Nyh4Lsrkt"
    },
    {
      "cell_type": "code",
      "metadata": {
        "id": "OXy3YXBasrkt"
      },
      "source": [],
      "id": "OXy3YXBasrkt",
      "execution_count": null,
      "outputs": []
    },
    {
      "cell_type": "markdown",
      "metadata": {
        "id": "SN-DZ8PZsrkt"
      },
      "source": [
        "### Checking Data Types\n",
        "Prompt: \"Let's check the data types of the merged dataset to ensure that all columns are in the correct format. This will help us identify if any changes are needed.\""
      ],
      "id": "SN-DZ8PZsrkt"
    },
    {
      "cell_type": "code",
      "metadata": {
        "id": "aX-Ke1Zdsrkt"
      },
      "source": [],
      "id": "aX-Ke1Zdsrkt",
      "execution_count": null,
      "outputs": []
    },
    {
      "cell_type": "markdown",
      "metadata": {
        "id": "F8zQwZN3srkt"
      },
      "source": [
        "### Changing Data Types and Handling Missing Values\n",
        "Prompt: \"To ensure our data is consistent, we'll change data types if necessary and handle any missing values in the 'Test_Score' column.\""
      ],
      "id": "F8zQwZN3srkt"
    },
    {
      "cell_type": "code",
      "metadata": {
        "id": "hIl-nsTpsrkt"
      },
      "source": [],
      "id": "hIl-nsTpsrkt",
      "execution_count": null,
      "outputs": []
    },
    {
      "cell_type": "markdown",
      "metadata": {
        "id": "NoDDVivlsrkt"
      },
      "source": [
        "### Visualizations\n",
        "#### 1. Distribution of Test Scores\n",
        "Prompt: \"Let's move on to our analysis with various visualizations. We'll start with a distribution of test scores.\""
      ],
      "id": "NoDDVivlsrkt"
    },
    {
      "cell_type": "code",
      "metadata": {
        "id": "zIjLQIdFsrku"
      },
      "source": [],
      "id": "zIjLQIdFsrku",
      "execution_count": null,
      "outputs": []
    },
    {
      "cell_type": "markdown",
      "metadata": {
        "id": "aDg3Xngssrku"
      },
      "source": [
        "#### 2. Average Test Scores by Country\n",
        "Prompt: \"Next, we'll compare the average test scores by country.\""
      ],
      "id": "aDg3Xngssrku"
    },
    {
      "cell_type": "code",
      "metadata": {
        "id": "lOu3bajfsrku"
      },
      "source": [],
      "id": "lOu3bajfsrku",
      "execution_count": null,
      "outputs": []
    },
    {
      "cell_type": "markdown",
      "metadata": {
        "id": "g1YqrOIbsrku"
      },
      "source": [
        "#### 3. Test Scores by Gender\n",
        "Prompt: \"Let's compare the distribution of test scores between genders.\""
      ],
      "id": "g1YqrOIbsrku"
    },
    {
      "cell_type": "code",
      "metadata": {
        "id": "eWtdEYdksrku"
      },
      "source": [],
      "id": "eWtdEYdksrku",
      "execution_count": null,
      "outputs": []
    },
    {
      "cell_type": "markdown",
      "metadata": {
        "id": "lbCwgQjQsrku"
      },
      "source": [
        "#### 4. GDP per Capita vs. Test Scores\n",
        "Prompt: \"Visualize the relationship between GDP per capita and test scores. Add country as hue.\""
      ],
      "id": "lbCwgQjQsrku"
    },
    {
      "cell_type": "code",
      "metadata": {
        "id": "31k3kQ0zsrku"
      },
      "source": [],
      "id": "31k3kQ0zsrku",
      "execution_count": null,
      "outputs": []
    },
    {
      "cell_type": "markdown",
      "metadata": {
        "id": "m_g4Eh90srku"
      },
      "source": [
        "#### 5. Education Expenditure vs. Test Scores\n",
        "Prompt: \"We'll also explore the relationship between education expenditure (as a percentage of GDP) and test scores.\""
      ],
      "id": "m_g4Eh90srku"
    },
    {
      "cell_type": "code",
      "metadata": {
        "id": "qENiOergsrku"
      },
      "source": [],
      "id": "qENiOergsrku",
      "execution_count": null,
      "outputs": []
    },
    {
      "cell_type": "markdown",
      "metadata": {
        "id": "Un2k_eBUsrku"
      },
      "source": [
        "#### 6. Pair Plot for Selected Economic Indicators and Test Scores\n",
        "Prompt: \"Next, we'll create a pair plot for selected economic indicators and test scores using the columns ['Test_Score', 'gdp_per_capita_ppp', 'expenditure_on _education_pct_gdp', 'unemployment', 'inflation_consumer_prices'].\""
      ],
      "id": "Un2k_eBUsrku"
    },
    {
      "cell_type": "code",
      "metadata": {
        "id": "10mPlyFNsrku"
      },
      "source": [],
      "id": "10mPlyFNsrku",
      "execution_count": null,
      "outputs": []
    },
    {
      "cell_type": "markdown",
      "metadata": {
        "id": "7fys1GI3srku"
      },
      "source": [
        "#### 7. Heatmap of Correlations\n",
        "Prompt: \"We'll generate a heatmap to show the correlations between following columns  ['Test_Score', 'gdp_per_capita_ppp', 'expenditure_on _education_pct_gdp', 'unemployment', 'inflation_consumer_prices'] and test scores.\""
      ],
      "id": "7fys1GI3srku"
    },
    {
      "cell_type": "code",
      "metadata": {
        "id": "-Z8oZbx2srku"
      },
      "source": [],
      "id": "-Z8oZbx2srku",
      "execution_count": null,
      "outputs": []
    },
    {
      "cell_type": "markdown",
      "metadata": {
        "id": "F85_35Qcsrku"
      },
      "source": [
        "#### 8. Test Scores by Subject\n",
        "Prompt: \"Let's compare the distribution of test scores across different subjects.\""
      ],
      "id": "F85_35Qcsrku"
    },
    {
      "cell_type": "code",
      "metadata": {
        "id": "Pw1h8yWNsrku"
      },
      "source": [],
      "id": "Pw1h8yWNsrku",
      "execution_count": null,
      "outputs": []
    },
    {
      "cell_type": "markdown",
      "metadata": {
        "id": "Ai7z7hDPsrku"
      },
      "source": [
        "#### 9. Trend Analysis Over Years\n",
        "Prompt: \"Test_Score' on the y-axis, and uses 'COUNTRY' to differentiate the lines by country. It also includes markers for data points, titles for the plot and axes, and a legend positioned outside the plot area.\""
      ],
      "id": "Ai7z7hDPsrku"
    },
    {
      "cell_type": "code",
      "metadata": {
        "id": "-6J_K4Jvsrku"
      },
      "source": [],
      "id": "-6J_K4Jvsrku",
      "execution_count": null,
      "outputs": []
    },
    {
      "cell_type": "markdown",
      "metadata": {
        "id": "Y5Byz5TXsrkv"
      },
      "source": [
        "#### 10. Boxplots for Economic Indicators\n",
        "Prompt: \"Create boxplots for a list of economic indicators across different countries. First, define a list of economic indicators to visualize. Then, for each indicator in the list, generate a boxplot with 'COUNTRY' on the x-axis and the respective economic indicator on the y-axis. Set appropriate figsize,  titles and labels for each plot. The title should include the indicator.\""
      ],
      "id": "Y5Byz5TXsrkv"
    },
    {
      "cell_type": "code",
      "metadata": {
        "id": "1-13OSORsrkv"
      },
      "source": [],
      "id": "1-13OSORsrkv",
      "execution_count": null,
      "outputs": []
    },
    {
      "cell_type": "markdown",
      "metadata": {
        "id": "8jQLhNadsrkv"
      },
      "source": [
        "#### 11. Unemployment Rate vs. Test Scores\n",
        "Prompt: \"Create a scatter plot to analyze the relationship between unemployment rate and test scores.\""
      ],
      "id": "8jQLhNadsrkv"
    },
    {
      "cell_type": "code",
      "metadata": {
        "id": "1TMiIjIlsrkv"
      },
      "source": [],
      "id": "1TMiIjIlsrkv",
      "execution_count": null,
      "outputs": []
    },
    {
      "cell_type": "markdown",
      "metadata": {
        "id": "hgkp8rAlsrkv"
      },
      "source": [
        "#### 12. Facet Grids for Test Scores by Gender and Subject\n",
        "Prompt: \"Create facet grids to visualize test scores by gender and subject. Set up a FacetGrid with columns representing 'SUBJECT' and rows representing 'GENDER', including margin titles. Within each facet, plot a histogram of 'Test_Score' with a kernel density estimate. Add a legend to the plot, and display the final visualization.\""
      ],
      "id": "hgkp8rAlsrkv"
    },
    {
      "cell_type": "code",
      "metadata": {
        "id": "uurjTT6Xsrkv"
      },
      "source": [],
      "id": "uurjTT6Xsrkv",
      "execution_count": null,
      "outputs": []
    }
  ],
  "metadata": {
    "kernelspec": {
      "display_name": "Python 3",
      "language": "python",
      "name": "python3"
    },
    "language_info": {
      "codemirror_mode": {
        "name": "ipython",
        "version": 3
      },
      "file_extension": ".py",
      "mimetype": "text/x-python",
      "name": "python",
      "nbconvert_exporter": "python",
      "pygments_lexer": "ipython3",
      "version": "3.8.10"
    },
    "colab": {
      "provenance": []
    }
  },
  "nbformat": 4,
  "nbformat_minor": 5
}
